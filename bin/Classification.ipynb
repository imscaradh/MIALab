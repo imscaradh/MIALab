{
 "cells": [
  {
   "cell_type": "code",
   "execution_count": null,
   "metadata": {},
   "outputs": [],
   "source": [
    "import argparse\n",
    "import os\n",
    "import sys\n",
    "import numpy as np\n",
    "from sklearn.neighbors import KNeighborsClassifier\n",
    "\n",
    "sys.path.append('..')\n",
    "from mialab.classifier.classifier_controller import ClassificationController"
   ]
  },
  {
   "cell_type": "code",
   "execution_count": null,
   "metadata": {},
   "outputs": [],
   "source": [
    "# np.random.seed(42)\n",
    "script_dir = os.path.abspath('')\n",
    "result_dir = os.path.normpath(os.path.join(script_dir, './mia-result'))\n",
    "data_atlas_dir = os.path.normpath(os.path.join(script_dir, '../data/atlas'))\n",
    "data_train_dir = os.path.normpath(os.path.join(script_dir, '../data/train/'))\n",
    "data_test_dir = os.path.normpath(os.path.join(script_dir, '../data/test/'))"
   ]
  },
  {
   "cell_type": "markdown",
   "metadata": {},
   "source": [
    "The main routine executes the medical image analysis pipeline:\n",
    "\n",
    "- Image loading\n",
    "- Registration\n",
    "- Pre-processing\n",
    "- Feature extraction\n",
    "- Decision forest classifier model building\n",
    "- Segmentation using the decision forest classifier model on unseen images\n",
    "- Post-processing of the segmentation\n",
    "- Evaluation of the segmentation"
   ]
  },
  {
   "cell_type": "code",
   "execution_count": null,
   "metadata": {},
   "outputs": [],
   "source": [
    "cc = ClassificationController([\n",
    "    KNeighborsClassifier(n_neighbors=1, weights='distance'),\n",
    "    # sk_ensemble.RandomForestClassifier(max_features=images[0].feature_matrix[0].shape[1], n_estimators=10, max_depth=10)\n",
    "], result_dir, data_atlas_dir, data_train_dir, data_test_dir, limit=1)"
   ]
  },
  {
   "cell_type": "code",
   "execution_count": null,
   "metadata": {},
   "outputs": [],
   "source": [
    "cc.train()"
   ]
  },
  {
   "cell_type": "code",
   "execution_count": null,
   "metadata": {},
   "outputs": [],
   "source": [
    "# cc.feature_importance()"
   ]
  },
  {
   "cell_type": "code",
   "execution_count": null,
   "metadata": {},
   "outputs": [],
   "source": [
    "cc.test()"
   ]
  },
  {
   "cell_type": "code",
   "execution_count": null,
   "metadata": {},
   "outputs": [],
   "source": [
    "cc.evaluate()"
   ]
  }
 ],
 "metadata": {
  "kernelspec": {
   "display_name": "venv",
   "language": "python",
   "name": "python3"
  },
  "language_info": {
   "codemirror_mode": {
    "name": "ipython",
    "version": 3
   },
   "file_extension": ".py",
   "mimetype": "text/x-python",
   "name": "python",
   "nbconvert_exporter": "python",
   "pygments_lexer": "ipython3",
   "version": "3.10.8 (main, Nov  1 2022, 14:18:21) [GCC 12.2.0]"
  },
  "orig_nbformat": 4,
  "vscode": {
   "interpreter": {
    "hash": "12c9ed0c1c99feba93e2888887d56bbe1aade425d52704d9ed0902bd33dd7ce3"
   }
  }
 },
 "nbformat": 4,
 "nbformat_minor": 2
}
